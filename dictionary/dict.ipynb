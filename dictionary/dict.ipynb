{
 "cells": [
  {
   "cell_type": "code",
   "execution_count": 3,
   "metadata": {},
   "outputs": [],
   "source": [
    "capitals={\"usa\":\"washington\",\n",
    "          \"india\":\"delhi\",\n",
    "          \"china\":\"beijing\",\n",
    "          \"russia\":\"moscow\"}"
   ]
  },
  {
   "cell_type": "code",
   "execution_count": 5,
   "metadata": {},
   "outputs": [
    {
     "name": "stdout",
     "output_type": "stream",
     "text": [
      "dict_keys(['usa', 'india', 'china', 'russia'])\n"
     ]
    }
   ],
   "source": [
    "print(capitals.keys())"
   ]
  },
  {
   "cell_type": "code",
   "execution_count": 8,
   "metadata": {},
   "outputs": [
    {
     "name": "stdout",
     "output_type": "stream",
     "text": [
      "{2: 8, 9: 729, 5: 125, 7: 343, 4: 64, 855: 625026375, 8: 512}\n"
     ]
    }
   ],
   "source": [
    "keys=[2,9,9,5,7,4,855,4,8,4,8]\n",
    "dictionary={x:x**3 for x in keys}\n",
    "print(dictionary)"
   ]
  },
  {
   "cell_type": "code",
   "execution_count": 10,
   "metadata": {},
   "outputs": [
    {
     "name": "stdout",
     "output_type": "stream",
     "text": [
      "{'a': 1, 'b': 55, 'c': 8, 'd': 7, 'e': 5, 'f': 9}\n"
     ]
    }
   ],
   "source": [
    "keys=[\"a\",\"b\",\"c\",\"d\",\"e\",\"f\"]\n",
    "value=[1,55,8,7,5,9]\n",
    "dic=dict(zip(keys,value))\n",
    "print(dic)"
   ]
  }
 ],
 "metadata": {
  "kernelspec": {
   "display_name": "Python 3",
   "language": "python",
   "name": "python3"
  },
  "language_info": {
   "codemirror_mode": {
    "name": "ipython",
    "version": 3
   },
   "file_extension": ".py",
   "mimetype": "text/x-python",
   "name": "python",
   "nbconvert_exporter": "python",
   "pygments_lexer": "ipython3",
   "version": "3.11.7"
  }
 },
 "nbformat": 4,
 "nbformat_minor": 2
}
